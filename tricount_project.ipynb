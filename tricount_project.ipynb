{
 "metadata": {
  "language_info": {
   "codemirror_mode": {
    "name": "ipython",
    "version": 3
   },
   "file_extension": ".py",
   "mimetype": "text/x-python",
   "name": "python",
   "nbconvert_exporter": "python",
   "pygments_lexer": "ipython3",
   "version": "3.8.3-final"
  },
  "orig_nbformat": 2,
  "kernelspec": {
   "name": "python3",
   "display_name": "Python 3"
  }
 },
 "nbformat": 4,
 "nbformat_minor": 2,
 "cells": [
  {
   "cell_type": "code",
   "execution_count": null,
   "metadata": {},
   "outputs": [],
   "source": [
    "\"\"\" Project: Re-create a Tricount-like application where we'll be able to track a group of friend trip expenses and tell a user who owes money to who. \n",
    "#Creating tuples + if statements. Verify if the user is writing as many amounts of money as #friends #Verify if the len of both list = 2 (nested if) if len(list_of_friends)==2:\n",
    "Use the for loop to iterate all the friends of the user and store the value in a list of tuples. There are two ways of doing this. The first code cell is an example of using the built-in function of enumerate. The second one uses the zip funtion\n",
    "Using the try/except structure to make sure the user in entering the right format when prompted.  \"\"\""
   ]
  },
  {
   "cell_type": "code",
   "execution_count": 14,
   "metadata": {
    "tags": []
   },
   "outputs": [
    {
     "output_type": "stream",
     "name": "stdout",
     "text": "[('Giselle', '30'), (' Amara', ' 50'), (' Damian', ' 70')]\n"
    }
   ],
   "source": [
    "\"\"\"friends = input(\"What are the names of your friends? (seperate names by comma)\")\n",
    "amounts = input(\"How much each of your friends spent? (keep same order as above and seperate by comma)\")\n",
    "\n",
    "list_of_friends = friends.split(\",\")\n",
    "list_of_amounts = amounts.split(\",\")\n",
    "\n",
    "if len(list_of_friends) == len(list_of_amounts):\n",
    "    friends = [] \n",
    "    for i, _ in enumerate(list_of_friends):\n",
    "\n",
    "        friends.append((list_of_friends[i], list_of_amounts[i]))\n",
    "    print(friends)\n",
    "\n",
    "elif len(list_of_friends) > len(list_of_amounts):\n",
    "    print(\"You entered more friends than amounts\")\n",
    "else:\n",
    "    print(\"You entered more amounts than friends\")\"\"\""
   ]
  },
  {
   "cell_type": "code",
   "execution_count": 15,
   "metadata": {
    "tags": []
   },
   "outputs": [
    {
     "output_type": "stream",
     "name": "stdout",
     "text": "[('Sally', '50'), (' Punny', ' 99'), (' Joe', ' 200')]\n"
    }
   ],
   "source": [
    "friends = input(\"What are the names of your friends? (seperate names by comma)\")\n",
    "amounts = input(\"How much each of your friends spent? (keep same order as above and seperate by comma)\")\n",
    "\n",
    "list_of_friends = friends.split(\",\")\n",
    "list_of_amounts = amounts.split(\",\")\n",
    "\n",
    "if len(list_of_friends) == len(list_of_amounts):\n",
    "    friends = [] \n",
    "    for friend, amount in zip(list_of_friends, list_of_amounts):\n",
    "        friends.append((friend, amount))\n",
    "    print(friends)\n",
    "\n",
    "elif len(list_of_friends) > len(list_of_amounts):\n",
    "    print(\"You entered more friends than amounts\")\n",
    "else:\n",
    "    print(\"You entered more amounts than friends\")"
   ]
  },
  {
   "cell_type": "code",
   "execution_count": 16,
   "metadata": {
    "tags": []
   },
   "outputs": [
    {
     "output_type": "stream",
     "name": "stdout",
     "text": "('Sally', '50')\n(' Punny', ' 99')\n(' Joe', ' 200')\n"
    }
   ],
   "source": [
    "# What does zip do? Behaves like enumerate it decomposes the list giving tuples as output. It makes a loop fot both list. \n",
    "for items in zip(list_of_friends, list_of_amounts):\n",
    "    print(items)"
   ]
  },
  {
   "cell_type": "code",
   "execution_count": 27,
   "metadata": {
    "tags": []
   },
   "outputs": [
    {
     "output_type": "stream",
     "name": "stdout",
     "text": "Please enter numbers of the amounts spent\n Please enter the same number of friends than amount spent\n[('Giselle', 20.0), (' Dorian', 80.0), (' Willy', 90.0)]\nTotal amount spent during the trip: 190\n"
    }
   ],
   "source": [
    "friends = input(\"What are the names of your friends? (seperate names by comma)\")\n",
    "amounts = input(\"How much each of your friends spent? (keep same order as above and seperate by comma)\")\n",
    "\n",
    "list_of_friends = friends.split(\",\")\n",
    "list_of_amounts = amounts.split(\",\")\n",
    "\n",
    "while True:\n",
    "    try:\n",
    "        for i, amount in enumerate(list_of_amounts):\n",
    "            list_of_amounts[i] = float(amount)\n",
    "        break \n",
    "    except:\n",
    "        print(\"Please enter numbers of the amounts spent\")\n",
    "        amounts = input(\"How much each of your friends spent? (keep same order as above and seperate by comma)\")\n",
    "        list_of_amounts = amounts.split(\",\")\n",
    "\n",
    "while len(list_of_friends) != len(list_of_amounts):\n",
    "    print(\" Please enter the same number of friends than amount spent\")\n",
    "\n",
    "    friends = input(\"What are the names of your friends? (seperate names by comma)\")\n",
    "    amounts = input(\"How much each of your friends spent? (keep same order as above and     seperate by comma)\")\n",
    "\n",
    "    list_of_friends = friends.split(\",\")\n",
    "    list_of_amounts = amounts.split(\",\")\n",
    "\n",
    "    while True:\n",
    "        try:\n",
    "            for i, amount in enumerate(list_of_amounts):\n",
    "                list_of_amounts[i] = float(amount)\n",
    "            break \n",
    "        except:\n",
    "            print(\"Please enter numbers of the amounts spent\")\n",
    "            amounts = input(\"How much each of your friends spent? (keep same order as above and seperate by comma)\")\n",
    "            list_of_amounts = amounts.split(\",\")\n",
    "        \n",
    "else:\n",
    "    friends = [] \n",
    "    total_spent = 0\n",
    "    for friend, amount in zip(list_of_friends, list_of_amounts):\n",
    "        friends.append((friend, amount))\n",
    "        total_spent += int(amount)\n",
    "    print(friends)\n",
    "    print(\"Total amount spent during the trip: {}\".format(total_spent))"
   ]
  },
  {
   "cell_type": "code",
   "execution_count": null,
   "metadata": {},
   "outputs": [],
   "source": [
    "\"\"\"Second part of project: How to tell the user who owes money and how received money. \n",
    "Calcuate the total amount spent and get an equal amount that everybody should have spent during the trip. \n",
    "\n",
    "Subtract how much the traveler spent to see how much the person owes or needs to receive. \"\"\""
   ]
  },
  {
   "cell_type": "code",
   "execution_count": 10,
   "metadata": {
    "tags": []
   },
   "outputs": [
    {
     "output_type": "stream",
     "name": "stdout",
     "text": "k doesn't need to receive anything\n"
    }
   ],
   "source": [
    "friends = input(\"What are the names of your friends? (seperate names by comma)\")\n",
    "amounts = input(\"How much each of your friends spent? (keep same order as above and seperate by comma)\")\n",
    "\n",
    "list_of_friends = friends.split(\",\")\n",
    "list_of_amounts = amounts.split(\",\")\n",
    "\n",
    "while True:\n",
    "    try:\n",
    "        for i, amount in enumerate(list_of_amounts):\n",
    "            list_of_amounts[i] = float(amount)\n",
    "        break \n",
    "    except:\n",
    "        print(\"Please enter numbers of the amounts spent\")\n",
    "        amounts = input(\"How much each of your friends spent? (keep same order as above and seperate by comma)\")\n",
    "        list_of_amounts = amounts.split(\",\")\n",
    "\n",
    "while len(list_of_friends) != len(list_of_amounts):\n",
    "    print(\" Please enter the same number of friends than amount spent\")\n",
    "\n",
    "    friends = input(\"What are the names of your friends? (seperate names by comma)\")\n",
    "    amounts = input(\"How much each of your friends spent? (keep same order as above and     seperate by comma)\")\n",
    "\n",
    "    list_of_friends = friends.split(\",\")\n",
    "    list_of_amounts = amounts.split(\",\")\n",
    "\n",
    "    while True:\n",
    "        try:\n",
    "            for i, amount in enumerate(list_of_amounts):\n",
    "                list_of_amounts[i] = float(amount)\n",
    "            break \n",
    "        except:\n",
    "            print(\"Please enter numbers of the amounts spent\")\n",
    "            amounts = input(\"How much each of your friends spent? (keep same order as above and seperate by comma)\")\n",
    "            list_of_amounts = amounts.split(\",\")\n",
    "        \n",
    "else:\n",
    "    friends = [] \n",
    "    total_spent = 0\n",
    "    for friend, amount in zip(list_of_friends, list_of_amounts):\n",
    "        friends.append((friend, amount))\n",
    "        total_spent += float(amount)\n",
    "\n",
    "    for friend, amount in zip(list_of_friends, list_of_amounts):\n",
    "        even_share = total_spent / len(friends)\n",
    "        friend_balance = float(amount) - even_share\n",
    "\n",
    "        if friend_balance < 0:\n",
    "            print(\"{} needs to give {:.2f}\".format(friend, -friend_balance))\n",
    "        elif friend_balance > 0:\n",
    "            print(\"{} needs to receive {:.2f}\".format(friend, friend_balance))\n",
    "        else:\n",
    "            print(\"{} doesn't need to receive anything\".format(friend))\n",
    "\n",
    "    "
   ]
  },
  {
   "cell_type": "code",
   "execution_count": 11,
   "metadata": {
    "tags": []
   },
   "outputs": [
    {
     "output_type": "stream",
     "name": "stdout",
     "text": "j doesn't need to receive anything\n"
    }
   ],
   "source": [
    "\"\"\" Cleaning code by replacing the for loops with list comprehension\"\"\"\n",
    "\n",
    "friends = input(\"What are the names of your friends? (seperate names by comma)\")\n",
    "amounts = input(\"How much each of your friends spent? (keep same order as above and seperate by comma)\")\n",
    "\n",
    "list_of_friends = friends.split(\",\")\n",
    "list_of_amounts = amounts.split(\",\")\n",
    "\n",
    "while True:\n",
    "    try:\n",
    "        list_of_amounts = [float(amount) for amount in list_of_amounts]\n",
    "        break \n",
    "    except:\n",
    "        print(\"Please enter numbers of the amounts spent\")\n",
    "        amounts = input(\"How much each of your friends spent? (keep same order as above and seperate by comma)\")\n",
    "        list_of_amounts = amounts.split(\",\")\n",
    "\n",
    "while len(list_of_friends) != len(list_of_amounts):\n",
    "    print(\" Please enter the same number of friends than amount spent\")\n",
    "\n",
    "    friends = input(\"What are the names of your friends? (seperate names by comma)\")\n",
    "    amounts = input(\"How much each of your friends spent? (keep same order as above and     seperate by comma)\")\n",
    "\n",
    "    list_of_friends = friends.split(\",\")\n",
    "    list_of_amounts = amounts.split(\",\")\n",
    "\n",
    "    while True:\n",
    "        try:\n",
    "            list_of_amounts = [float(amount) for amount in list_of_amounts]\n",
    "            break \n",
    "        except:\n",
    "            print(\"Please enter numbers of the amounts spent\")\n",
    "            amounts = input(\"How much each of your friends spent? (keep same order as above and seperate by comma)\")\n",
    "            list_of_amounts = amounts.split(\",\")\n",
    "        \n",
    "else:\n",
    "    friends = [(friend, amount) for friend, amount in zip(list_of_friends, list_of_amounts)] \n",
    "    total_spent = sum([amount for _, amount in friends])\n",
    "\n",
    "    for friend, amount in zip(list_of_friends, list_of_amounts):\n",
    "        even_share = total_spent / len(friends)\n",
    "        friend_balance = float(amount) - even_share\n",
    "\n",
    "        if friend_balance < 0:\n",
    "            print(\"{} needs to give {:.2f}\".format(friend, -friend_balance))\n",
    "        elif friend_balance > 0:\n",
    "            print(\"{} needs to receive {:.2f}\".format(friend, friend_balance))\n",
    "        else:\n",
    "            print(\"{} doesn't need to receive anything\".format(friend))\n"
   ]
  },
  {
   "cell_type": "code",
   "execution_count": 1,
   "metadata": {},
   "outputs": [],
   "source": [
    "\"\"\" making code better with custom function\"\"\"\n",
    "\n",
    "def amount_format_verification(list_of_amounts):\n",
    "    while True:\n",
    "        try:\n",
    "            list_of_amounts = [float(amount) for amount in list_of_amounts]\n",
    "            break \n",
    "        except:\n",
    "            print(\"Please enter numbers of the amounts spent\")\n",
    "            amounts = input(\"How much each of your friends spent? (keep same order as above and seperate by comma)\")\n",
    "            list_of_amounts = amounts.split(\",\")\n",
    "        return list_of_amounts\n"
   ]
  },
  {
   "cell_type": "code",
   "execution_count": 2,
   "metadata": {},
   "outputs": [
    {
     "output_type": "error",
     "ename": "TypeError",
     "evalue": "object of type 'NoneType' has no len()",
     "traceback": [
      "\u001b[0;31m---------------------------------------------------------------------------\u001b[0m",
      "\u001b[0;31mTypeError\u001b[0m                                 Traceback (most recent call last)",
      "\u001b[0;32m<ipython-input-2-41a0f500cf6f>\u001b[0m in \u001b[0;36m<module>\u001b[0;34m\u001b[0m\n\u001b[1;32m      5\u001b[0m \u001b[0mlist_of_amounts\u001b[0m \u001b[0;34m=\u001b[0m \u001b[0mamount_format_verification\u001b[0m\u001b[0;34m(\u001b[0m\u001b[0mamounts\u001b[0m\u001b[0;34m.\u001b[0m\u001b[0msplit\u001b[0m\u001b[0;34m(\u001b[0m\u001b[0;34m\",\"\u001b[0m\u001b[0;34m)\u001b[0m\u001b[0;34m)\u001b[0m\u001b[0;34m\u001b[0m\u001b[0;34m\u001b[0m\u001b[0m\n\u001b[1;32m      6\u001b[0m \u001b[0;34m\u001b[0m\u001b[0m\n\u001b[0;32m----> 7\u001b[0;31m \u001b[0;32mwhile\u001b[0m \u001b[0mlen\u001b[0m\u001b[0;34m(\u001b[0m\u001b[0mlist_of_friends\u001b[0m\u001b[0;34m)\u001b[0m \u001b[0;34m!=\u001b[0m \u001b[0mlen\u001b[0m\u001b[0;34m(\u001b[0m\u001b[0mlist_of_amounts\u001b[0m\u001b[0;34m)\u001b[0m\u001b[0;34m:\u001b[0m\u001b[0;34m\u001b[0m\u001b[0;34m\u001b[0m\u001b[0m\n\u001b[0m\u001b[1;32m      8\u001b[0m     \u001b[0mprint\u001b[0m\u001b[0;34m(\u001b[0m\u001b[0;34m\" Please enter the same number of friends than amount spent\"\u001b[0m\u001b[0;34m)\u001b[0m\u001b[0;34m\u001b[0m\u001b[0;34m\u001b[0m\u001b[0m\n\u001b[1;32m      9\u001b[0m \u001b[0;34m\u001b[0m\u001b[0m\n",
      "\u001b[0;31mTypeError\u001b[0m: object of type 'NoneType' has no len()"
     ]
    }
   ],
   "source": [
    "friends = input(\"What are the names of your friends? (seperate names by comma)\")\n",
    "amounts = input(\"How much each of your friends spent? (keep same order as above and seperate by comma)\")\n",
    "\n",
    "list_of_friends = friends.split(\",\")\n",
    "list_of_amounts = amount_format_verification(amounts.split(\",\"))\n",
    "\n",
    "while len(list_of_friends) != len(list_of_amounts):\n",
    "    print(\" Please enter the same number of friends than amount spent\")\n",
    "\n",
    "    friends = input(\"What are the names of your friends? (seperate names by comma)\")\n",
    "    amounts = input(\"How much each of your friends spent? (keep same order as above and     seperate by comma)\")\n",
    "\n",
    "    list_of_friends = friends.split(\",\")\n",
    "    list_of_amounts = amount_format_verification(amounts.split(\",\"))\n",
    "\n",
    "else:\n",
    "    friends = [(friend, amount) for friend, amount in zip(list_of_friends, list_of_amounts)] \n",
    "    total_spent = sum([amount for _, amount in friends])\n",
    "\n",
    "    for friend, amount in zip(list_of_friends, list_of_amounts):\n",
    "        even_share = total_spent / len(friends)\n",
    "        friend_balance = float(amount) - even_share\n",
    "\n",
    "        if friend_balance < 0:\n",
    "            print(\"{} needs to give {:.2f}\".format(friend, -friend_balance))\n",
    "        elif friend_balance > 0:\n",
    "            print(\"{} needs to receive {:.2f}\".format(friend, friend_balance))\n",
    "        else:\n",
    "            print(\"{} doesn't need to receive anything\".format(friend))"
   ]
  },
  {
   "cell_type": "code",
   "execution_count": null,
   "metadata": {},
   "outputs": [],
   "source": []
  }
 ]
}